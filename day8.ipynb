{
 "cells": [
  {
   "cell_type": "code",
   "execution_count": 1,
   "id": "cb448377",
   "metadata": {},
   "outputs": [],
   "source": [
    "import pandas as pd\n",
    "import geopandas as gpd\n",
    "from shapely.geometry import Point\n",
    "import numpy as np"
   ]
  },
  {
   "cell_type": "code",
   "execution_count": 2,
   "id": "a3f40feb",
   "metadata": {},
   "outputs": [],
   "source": [
    "with open('data/day8_input.txt') as f:\n",
    "    lines = f.readlines()"
   ]
  },
  {
   "cell_type": "code",
   "execution_count": 3,
   "id": "358c64fb",
   "metadata": {},
   "outputs": [],
   "source": [
    "# lines = ['30373\\n',\n",
    "#         '25512\\n',\n",
    "#         '65332\\n',\n",
    "#         '33549\\n',\n",
    "#         '35390\\n']"
   ]
  },
  {
   "cell_type": "code",
   "execution_count": 4,
   "id": "c5a1b523",
   "metadata": {},
   "outputs": [],
   "source": [
    "lines = [[*line] for line in lines]"
   ]
  },
  {
   "cell_type": "code",
   "execution_count": 5,
   "id": "02ec9008",
   "metadata": {},
   "outputs": [],
   "source": [
    "def data_list_to_gdf(data):\n",
    "    data_list = []\n",
    "    x = 0\n",
    "    y = 0\n",
    "    while x < len(lines):\n",
    "        for line in lines[x]:\n",
    "            for num in line:\n",
    "                if line == '\\n':\n",
    "                    continue\n",
    "                data_list.append({'val':int(line), 'xcoord':x, 'ycoord':y})\n",
    "                y += 1    \n",
    "        x += 1\n",
    "        y=0\n",
    "    return pd.DataFrame(data_list)"
   ]
  },
  {
   "cell_type": "code",
   "execution_count": 6,
   "id": "00156635",
   "metadata": {},
   "outputs": [],
   "source": [
    "df = data_list_to_gdf(lines)"
   ]
  },
  {
   "cell_type": "code",
   "execution_count": 7,
   "id": "a0702151",
   "metadata": {},
   "outputs": [],
   "source": [
    "geometry = [Point(xy) for xy in zip(df.xcoord, df.ycoord)]\n",
    "gdf = gpd.GeoDataFrame(df, geometry=geometry)"
   ]
  },
  {
   "cell_type": "code",
   "execution_count": null,
   "id": "7962c8c0",
   "metadata": {},
   "outputs": [
    {
     "data": {
      "text/plain": [
       "<AxesSubplot:>"
      ]
     },
     "execution_count": 8,
     "metadata": {},
     "output_type": "execute_result"
    }
   ],
   "source": [
    "gdf.plot('val', cmap = 'Greens', figsize=(15,15))"
   ]
  },
  {
   "cell_type": "code",
   "execution_count": null,
   "id": "ebae2e6d",
   "metadata": {},
   "outputs": [],
   "source": [
    "where = ((df['xcoord']==min(df['xcoord'])) | \n",
    "         (df['xcoord']== max(df['xcoord'])) |\n",
    "         (df['ycoord']==min(df['ycoord'])) |\n",
    "         (df['ycoord']==max(df['ycoord'])))\n",
    "df['visible'] = np.where(where, True, False)"
   ]
  },
  {
   "cell_type": "code",
   "execution_count": null,
   "id": "09db608a",
   "metadata": {},
   "outputs": [],
   "source": [
    "row_ = None\n",
    "for i, row in gdf.iterrows():\n",
    "    if row['ycoord'] == 1:\n",
    "        if row_ is None:\n",
    "            row_ = row\n",
    "            continue\n",
    "        cur = row['val']\n",
    "        prev = row_['val']\n",
    "        print(f'cur:{cur} prev:{prev}')\n",
    "        print(cur > prev)\n",
    "        if cur > prev:\n",
    "            visible = True\n",
    "            gdf.loc[i, 'visible'] = True\n",
    "        else:\n",
    "            break\n",
    "        row_ = row"
   ]
  },
  {
   "cell_type": "code",
   "execution_count": null,
   "id": "d2d30067",
   "metadata": {},
   "outputs": [],
   "source": [
    "gdf.plot('visible', figsize=(15,15))"
   ]
  }
 ],
 "metadata": {
  "kernelspec": {
   "display_name": "Python 3",
   "language": "python",
   "name": "python3"
  },
  "language_info": {
   "codemirror_mode": {
    "name": "ipython",
    "version": 3
   },
   "file_extension": ".py",
   "mimetype": "text/x-python",
   "name": "python",
   "nbconvert_exporter": "python",
   "pygments_lexer": "ipython3",
   "version": "3.10.2"
  }
 },
 "nbformat": 4,
 "nbformat_minor": 5
}
