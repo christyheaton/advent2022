{
 "cells": [
  {
   "cell_type": "markdown",
   "id": "c954cea2",
   "metadata": {},
   "source": [
    " *“Code is read much more often than it is written.”* - Guido van Rossum (creator of Python)"
   ]
  },
  {
   "cell_type": "markdown",
   "id": "10159590",
   "metadata": {},
   "source": [
    "Note: functions written in Jupyter Notebooks can't be imported and called from other places. The only time defining a function in a Jupyter Notebook would be useuful is when its only ever being called from the same Jupyter Notebook.\n",
    "\n",
    "Functions are written here for demo purposes."
   ]
  },
  {
   "cell_type": "markdown",
   "id": "1b3fe368",
   "metadata": {},
   "source": [
    "## Functions"
   ]
  },
  {
   "cell_type": "markdown",
   "id": "36e5ada2",
   "metadata": {},
   "source": [
    "A piece of code that groups some operations and can be called one or more times from another part of the script or from a separate script"
   ]
  },
  {
   "cell_type": "markdown",
   "id": "f7cfaed5",
   "metadata": {},
   "source": [
    "Allow us to:\n",
    "- Conceive of our program as a series of sub-steps\n",
    "- Reuse code instead of rewriting it\n",
    "- Test small parts of our program in isolation from the rest\n",
    "- Keep code clean and organized"
   ]
  },
  {
   "cell_type": "markdown",
   "id": "ff05f96c",
   "metadata": {},
   "source": [
    "#### How do they work:\n",
    "- Take some input values\n",
    "- Run them through the function\n",
    "- Return some output"
   ]
  },
  {
   "cell_type": "code",
   "execution_count": 1,
   "id": "b2095418",
   "metadata": {},
   "outputs": [],
   "source": [
    "def function_name(parameters):\n",
    "    \"\"\"docstring\"\"\"\n",
    "    statement1\n",
    "    statement2\n",
    "    ...\n",
    "    return [expr]"
   ]
  },
  {
   "cell_type": "markdown",
   "id": "a38593d2",
   "metadata": {},
   "source": [
    "### Function Inputs: Parameters vs arguments\n",
    "- Parameter: the variable listed inside the parentheses in the function definition.\n",
    "- Argument: the value that is sent to the function when it is called."
   ]
  },
  {
   "cell_type": "code",
   "execution_count": 2,
   "id": "f39cbdd6",
   "metadata": {},
   "outputs": [
    {
     "name": "stdout",
     "output_type": "stream",
     "text": [
      "Issac Newton\n"
     ]
    }
   ],
   "source": [
    "def combine_names(first, last):          # first and last are parameters\n",
    "    return f'{first} {last}'\n",
    "\n",
    "print(combine_names('Issac', 'Newton'))  # Issac and Newton are arguments"
   ]
  },
  {
   "cell_type": "markdown",
   "id": "13d09234",
   "metadata": {},
   "source": [
    "Note: Functions can take no arguments, and while there is no limit to the number of arguments (as of Python 3.7), they are easier to use if they take less than 4 arguments.\n",
    "This page has a lot of good info on all the ways you can set up a function to use different kinds of arguments: https://www.w3schools.com/python/python_functions.asp"
   ]
  },
  {
   "cell_type": "markdown",
   "id": "3cb33f26",
   "metadata": {},
   "source": [
    "### Function Outputs:\n",
    "- The code that comes after `return`\n",
    "- Functions always return something"
   ]
  },
  {
   "cell_type": "code",
   "execution_count": 3,
   "id": "bccf2a7f",
   "metadata": {},
   "outputs": [
    {
     "name": "stdout",
     "output_type": "stream",
     "text": [
      "Issac Newton\n"
     ]
    }
   ],
   "source": [
    "def combine_names(first, last):          \n",
    "    return f'{first} {last}'             # returns a string combining the two arguments\n",
    "\n",
    "print(combine_names('Issac', 'Newton'))  # 'Issac Newton' is the output"
   ]
  },
  {
   "cell_type": "markdown",
   "id": "6a286bd5",
   "metadata": {},
   "source": [
    "### The idea comes from algebra"
   ]
  },
  {
   "cell_type": "markdown",
   "id": "06182f6e",
   "metadata": {},
   "source": [
    "`f(x) = x**2 - 5x + 7`\n",
    "\n",
    "`f(8) = (8)**2 - 5*(8) + 7`\n",
    "\n",
    "`f(8) = 31`"
   ]
  },
  {
   "cell_type": "code",
   "execution_count": 4,
   "id": "f5727794",
   "metadata": {},
   "outputs": [],
   "source": [
    "def f(x):                      # x is the input\n",
    "    return x**2 - 5*x + 7      # the number this evaluates to is the output"
   ]
  },
  {
   "cell_type": "code",
   "execution_count": 24,
   "id": "4ffe1e24",
   "metadata": {},
   "outputs": [
    {
     "name": "stdout",
     "output_type": "stream",
     "text": [
      "31\n"
     ]
    }
   ],
   "source": [
    "print(f(8))                    # run the function with x = 8"
   ]
  },
  {
   "cell_type": "markdown",
   "id": "5b0417a2",
   "metadata": {},
   "source": [
    "#### Function Inputs and Outputs"
   ]
  },
  {
   "cell_type": "code",
   "execution_count": 6,
   "id": "b377a31e",
   "metadata": {},
   "outputs": [
    {
     "data": {
      "text/plain": [
       "157"
      ]
     },
     "execution_count": 6,
     "metadata": {},
     "output_type": "execute_result"
    }
   ],
   "source": [
    "f(15)           # calling the function with an input of 15, the output is 157"
   ]
  },
  {
   "cell_type": "code",
   "execution_count": 7,
   "id": "234b35a4",
   "metadata": {},
   "outputs": [],
   "source": [
    "f_15 = f(15)    # the result can be assigned to a variable"
   ]
  },
  {
   "cell_type": "code",
   "execution_count": 8,
   "id": "6c084779",
   "metadata": {},
   "outputs": [
    {
     "data": {
      "text/plain": [
       "157"
      ]
     },
     "execution_count": 8,
     "metadata": {},
     "output_type": "execute_result"
    }
   ],
   "source": [
    "f_15            # that variable holds the output of the funtion call"
   ]
  },
  {
   "cell_type": "code",
   "execution_count": 9,
   "id": "8be0adf0",
   "metadata": {},
   "outputs": [
    {
     "data": {
      "text/plain": [
       "int"
      ]
     },
     "execution_count": 9,
     "metadata": {},
     "output_type": "execute_result"
    }
   ],
   "source": [
    "type(f_15)      # the output data type is an int, the input is also an int"
   ]
  },
  {
   "cell_type": "code",
   "execution_count": 10,
   "id": "4d42fe45",
   "metadata": {},
   "outputs": [],
   "source": [
    "# don't do this\n",
    "def f_no_return(x):             # a version without a return statement\n",
    "    answer = x**2 - 5*x + 7     # the result is never returned, so the function returns None"
   ]
  },
  {
   "cell_type": "code",
   "execution_count": 11,
   "id": "91ee0e84",
   "metadata": {},
   "outputs": [],
   "source": [
    "f_15_nr = f_no_return(15)       # set this version equal to a variable"
   ]
  },
  {
   "cell_type": "code",
   "execution_count": 25,
   "id": "9a4cd470",
   "metadata": {},
   "outputs": [],
   "source": [
    "f_15_nr                         # nothing gets returned"
   ]
  },
  {
   "cell_type": "code",
   "execution_count": 12,
   "id": "0c0b7721",
   "metadata": {},
   "outputs": [
    {
     "data": {
      "text/plain": [
       "NoneType"
      ]
     },
     "execution_count": 12,
     "metadata": {},
     "output_type": "execute_result"
    }
   ],
   "source": [
    "type(f_15_nr)                   # see that it is a NoneType"
   ]
  },
  {
   "cell_type": "markdown",
   "id": "de430f72",
   "metadata": {},
   "source": [
    "Its okay for a function to return None, but only if that's the intention"
   ]
  },
  {
   "cell_type": "markdown",
   "id": "e4784805",
   "metadata": {},
   "source": [
    "### Type Hints (new in Python 3.5)\n",
    "- Explicitly declare the data type of a function's parameters and return values\n",
    "- When used, developer tools (PyCharm, VSCode) will highlight any deviations from the hints\n",
    "- Not required, and getting them wrong will not cause code to error"
   ]
  },
  {
   "cell_type": "code",
   "execution_count": 13,
   "id": "c0da8d57",
   "metadata": {},
   "outputs": [],
   "source": [
    "# this function returns an integer\n",
    "def algebra_func(x: int) -> int:\n",
    "    \"\"\"Returns the result of the algebra function\"\"\"\n",
    "    return x**2 - 5*x + 7  "
   ]
  },
  {
   "cell_type": "code",
   "execution_count": 14,
   "id": "90f0a3e1",
   "metadata": {},
   "outputs": [],
   "source": [
    "# this function returns None\n",
    "def hello() -> None:\n",
    "    \"Prints hello\"\n",
    "    print('Hello!')"
   ]
  },
  {
   "cell_type": "code",
   "execution_count": 15,
   "id": "c22ec69e",
   "metadata": {},
   "outputs": [
    {
     "name": "stdout",
     "output_type": "stream",
     "text": [
      "21\n"
     ]
    }
   ],
   "source": [
    "# typically main() functions return None\n",
    "def main() -> None:\n",
    "    print(algebra_func(7))\n",
    "    \n",
    "main()"
   ]
  },
  {
   "cell_type": "code",
   "execution_count": 26,
   "id": "ec91203c",
   "metadata": {},
   "outputs": [
    {
     "name": "stdout",
     "output_type": "stream",
     "text": [
      "{'a': 1, 'b': 2, 'c': 3}\n"
     ]
    }
   ],
   "source": [
    "# TODO\n",
    "# this function turns a list into a dictionary\n",
    "def list_to_dict(sample_list: list) -> dict:\n",
    "    new_dict = {sample_list[i]: sample_list[i + 1] \n",
    "                for i in range(0, len(sample_list), 2)}\n",
    "    return new_dict\n",
    "\n",
    "\n",
    "lst = ['a', 1, 'b', 2, 'c', 3]\n",
    "dct = list_to_dict(lst)\n",
    "print(dct)"
   ]
  },
  {
   "cell_type": "markdown",
   "id": "17d32db1",
   "metadata": {},
   "source": [
    "### Be small"
   ]
  },
  {
   "cell_type": "markdown",
   "id": "950275ec",
   "metadata": {},
   "source": [
    "Do one thing - one cohesive idea - do it well - do it completely\n",
    "\n",
    "See the accepted answer here for a somewhat grumpy but good explanation of this concept:\n",
    "https://softwareengineering.stackexchange.com/questions/402979/what-does-it-mean-for-a-method-or-a-function-to-do-one-thing\n",
    "    "
   ]
  },
  {
   "cell_type": "code",
   "execution_count": 17,
   "id": "3c39a6ed",
   "metadata": {},
   "outputs": [],
   "source": [
    "# don't do this\n",
    "def load_clean_process_save(sample_file):\n",
    "    #lots of code here doing\n",
    "    ...\n",
    "    ...\n",
    "    ...\n",
    "    #all the things\n",
    "    ...\n",
    "    ...\n",
    "    ...\n",
    "    ...\n",
    "    ...\n",
    "    # save file\n",
    "    \n",
    "    \n",
    "load_clean_process_save('my_file.txt')"
   ]
  },
  {
   "cell_type": "code",
   "execution_count": 18,
   "id": "d2b558ed",
   "metadata": {},
   "outputs": [],
   "source": [
    "# generally, something like this is better\n",
    "def load_data():\n",
    "    \"\"\"Returns data ready for cleaning\"\"\"\n",
    "    ...\n",
    "    return data\n",
    "\n",
    "def clean_data():\n",
    "    \"\"\"Returns clean data\"\"\"\n",
    "    #some cleaning code\n",
    "    return cleaned_data\n",
    "\n",
    "def process_data():\n",
    "    \"\"\"Returns processed data\"\"\"\n",
    "    #some processing code\n",
    "    return processed_data\n",
    "    \n",
    "def save_data():\n",
    "    \"\"\"Saves a file\"\"\"\n",
    "    #some saving code\n",
    "\n",
    "def main() -> None:\n",
    "    #print statements\n",
    "    #some other important but variable thing\n",
    "    #function calls\n",
    "    ..."
   ]
  },
  {
   "cell_type": "code",
   "execution_count": 19,
   "id": "b70d9166",
   "metadata": {},
   "outputs": [],
   "source": [
    "# these are examples of doing something TOO small, \n",
    "# they are just creating a function for existing functionality\n",
    "\n",
    "def get_first_item(input_list: list) -> int:\n",
    "    return input_list[0]\n",
    "\n",
    "def get_max_item(input_list: list) -> int:\n",
    "    return max(input_list)"
   ]
  },
  {
   "cell_type": "markdown",
   "id": "b09e0913",
   "metadata": {},
   "source": [
    "### Reusable Code\n",
    "\n",
    "- If there are two or more functions that are nearly identical, they can probably be made into a single function, with the differences moved to arguments.\n",
    "- If there are cases where multiple lines of code are repeated anywhere, that code can be made into a function. Functions are a opportunity to implement the concept of D.R.Y code (Don't Repeat Yourself)."
   ]
  },
  {
   "cell_type": "code",
   "execution_count": 20,
   "id": "f4429cf1",
   "metadata": {},
   "outputs": [
    {
     "name": "stdout",
     "output_type": "stream",
     "text": [
      "9\n",
      "10\n",
      "11\n"
     ]
    }
   ],
   "source": [
    "## TODO\n",
    "def add5(x):\n",
    "    return x + 5\n",
    "\n",
    "\n",
    "def add6(x):\n",
    "    return x + 6\n",
    "\n",
    "\n",
    "def add7(x):\n",
    "    return x + 7\n",
    "\n",
    "\n",
    "print(add5(4))\n",
    "print(add6(4))\n",
    "print(add7(4))"
   ]
  },
  {
   "cell_type": "code",
   "execution_count": 21,
   "id": "503d03b9",
   "metadata": {},
   "outputs": [
    {
     "name": "stdout",
     "output_type": "stream",
     "text": [
      "9\n",
      "10\n",
      "11\n"
     ]
    }
   ],
   "source": [
    "def add_val(x: int, val_to_add: int) -> int:\n",
    "    \"\"\"Returns the result of two integers added together\"\"\"\n",
    "    return x + val_to_add\n",
    "\n",
    "print(add_val(4, 5))\n",
    "print(add_val(4, 6))\n",
    "print(add_val(4, 7))"
   ]
  },
  {
   "cell_type": "markdown",
   "id": "52457c2e",
   "metadata": {},
   "source": [
    "Recommended 3 minute video:\n",
    "\n",
    "Python Tutorial: DRY and \"Do One Thing\" https://www.youtube.com/watch?v=hRBtws2n1XQ"
   ]
  },
  {
   "cell_type": "markdown",
   "id": "d0822904",
   "metadata": {},
   "source": [
    "### Should not depend on any variables outside of its definition\n",
    "- Should be able to copy and paste a function to another location, import it, and call it\n",
    "- Any variable that a function depends on should be listed in the parameters of the function"
   ]
  },
  {
   "cell_type": "code",
   "execution_count": 22,
   "id": "31a1e1f4",
   "metadata": {},
   "outputs": [
    {
     "data": {
      "text/plain": [
       "11"
      ]
     },
     "execution_count": 22,
     "metadata": {},
     "output_type": "execute_result"
    }
   ],
   "source": [
    "# don't do this\n",
    "# x and y depend on being defined outside of the function's scope\n",
    "def add_nums():\n",
    "    return x+y\n",
    "\n",
    "x = 5\n",
    "y = 6\n",
    "\n",
    "add_nums()"
   ]
  },
  {
   "cell_type": "code",
   "execution_count": 23,
   "id": "441063f4",
   "metadata": {},
   "outputs": [
    {
     "data": {
      "text/plain": [
       "11"
      ]
     },
     "execution_count": 23,
     "metadata": {},
     "output_type": "execute_result"
    }
   ],
   "source": [
    "# do this\n",
    "# x and y are input to the function as parameters\n",
    "def add_nums(x: int, y: int) -> int:\n",
    "    return x+y\n",
    "\n",
    "add_nums(5, 6)"
   ]
  },
  {
   "cell_type": "markdown",
   "id": "c02d4da0",
   "metadata": {},
   "source": [
    "### Tips\n",
    "\n",
    "- Try to keep functions clean and pure, have messy stuff (print statements, timing code, etc) in main()\n",
    "- Test a function's scope - if you can't copy/paste the function to another file, import and run it from another file, there may be a scope issue or unforseen dependency\n",
    "- Use type hints to help keep track of inputs/outputs\n",
    "- Use docstrings to describe what a function does\n",
    "- Keep function names clear and descriptive but also as short as possible, check for typos\n",
    "- If a function name has a `and` in it, that's a sign it should be split\n",
    "- If you have multiple functions (or code anywhere) that has a lot of repetition, that's a sign it should be turned into a single function"
   ]
  },
  {
   "cell_type": "markdown",
   "id": "e7e55ae2",
   "metadata": {},
   "source": [
    "### Prepping for code review:\n",
    "- All code and all functions should have a purpose that you could explain if asked\n",
    "- No functions should exist that are never called (unless there is a specific reason)\n",
    "- Remove debugging print statements. All print statements should clearly explain what they are printing.\n",
    "- Most function calls and print statements should be in a main() function"
   ]
  },
  {
   "cell_type": "markdown",
   "id": "6a02e1e3",
   "metadata": {},
   "source": [
    "### Benefits of writing functions following the above tips\n",
    "- Will force the author to better understand how their code works\n",
    "\n",
    "#### Makes code easier to:\n",
    "- Read and understand\n",
    "- Debug\n",
    "- Review\n",
    "- Refactor\n",
    "- Enhance"
   ]
  },
  {
   "cell_type": "markdown",
   "id": "c8eb3635",
   "metadata": {},
   "source": [
    "### Unit Tests\n",
    "- A prerequisite for writing unit tests is writing functions in a certain way\n",
    "\n",
    "#### Functions should be:\n",
    "\n",
    "- Pure - a given input will always produce the same output without side-effects or variability\n",
    "- Small and do one thing\n",
    "- Given a specific input, you would be able to identify what the output should be"
   ]
  },
  {
   "cell_type": "markdown",
   "id": "272605fe",
   "metadata": {},
   "source": [
    "### Advanced\n",
    "\n",
    "- Functions are first-class citizens in Python"
   ]
  }
 ],
 "metadata": {
  "kernelspec": {
   "display_name": "Python 3",
   "language": "python",
   "name": "python3"
  },
  "language_info": {
   "codemirror_mode": {
    "name": "ipython",
    "version": 3
   },
   "file_extension": ".py",
   "mimetype": "text/x-python",
   "name": "python",
   "nbconvert_exporter": "python",
   "pygments_lexer": "ipython3",
   "version": "3.10.6"
  }
 },
 "nbformat": 4,
 "nbformat_minor": 5
}
